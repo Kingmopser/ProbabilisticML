{
 "cells": [
  {
   "cell_type": "code",
   "id": "initial_id",
   "metadata": {
    "collapsed": true,
    "ExecuteTime": {
     "end_time": "2025-05-30T10:06:36.610404Z",
     "start_time": "2025-05-30T10:06:36.608865Z"
    }
   },
   "source": [],
   "outputs": [],
   "execution_count": null
  },
  {
   "cell_type": "code",
   "id": "85523ad5cc2039f7",
   "metadata": {
    "ExecuteTime": {
     "end_time": "2025-05-30T10:06:37.578537Z",
     "start_time": "2025-05-30T10:06:37.576176Z"
    }
   },
   "source": [
    "import numpy as np\n",
    "import matplotlib.pyplot as plt\n",
    "from torch.utils.data import DataLoader, TensorDataset\n",
    "import torch\n",
    "import torch.nn as nn\n",
    "import torch.optim as optim\n",
    "import torch.nn.functional as F\n",
    "from BayesianLLNN import BaseNetwork\n",
    "from BayesianLLNN import BayesianLastLayer,PredLastLayer,TrainLastLayer\n",
    "from baseNN import GetNeuralNetwork, PredNormal, TrainNN\n"
   ],
   "outputs": [],
   "execution_count": 5
  },
  {
   "cell_type": "markdown",
   "id": "e03f233333061533",
   "metadata": {},
   "source": []
  },
  {
   "cell_type": "code",
   "id": "d93996c184c3b673",
   "metadata": {
    "ExecuteTime": {
     "end_time": "2025-05-30T10:06:38.061926Z",
     "start_time": "2025-05-30T10:06:38.057477Z"
    }
   },
   "source": [
    "np.random.seed(123)\n",
    "device = torch.accelerator.current_accelerator().type if torch.accelerator.is_available() else \"cpu\"\n",
    "#simulate data\n",
    "X_train = np.random.uniform(-4,4,400).reshape(-1,1).astype(np.float32)\n",
    "#by adding the gaussian noise we are introducing aleatoric uncertainty\n",
    "y_train = (X_train**2 + 2*X_train + 0.9* np.random.randn(*X_train.shape)).astype(np.float32)\n",
    "\n",
    "X_test = np.linspace(-8, 8, 200).reshape(-1, 1).astype(np.float32)\n",
    "y_test = (X_test**2 + 2*X_test ).astype(np.float32)\n",
    "\n",
    "tenX = torch.from_numpy(X_train).to(device)\n",
    "tenY = torch.from_numpy(y_train).to(device)\n",
    "tenXTest = torch.from_numpy(X_test).to(device)\n",
    "tenYTest = torch.from_numpy(y_test).to(device)\n",
    "tenDF = TensorDataset(tenX,tenY)\n",
    "trainLoader = DataLoader(tenDF,batch_size=32,shuffle=True)\n",
    "InDist = (X_test >=-4) & (X_test <=4)"
   ],
   "outputs": [],
   "execution_count": 6
  },
  {
   "cell_type": "code",
   "id": "fe95bfac",
   "metadata": {
    "ExecuteTime": {
     "end_time": "2025-05-30T10:07:01.523081Z",
     "start_time": "2025-05-30T10:06:38.534583Z"
    }
   },
   "source": [
    "#NO TUNING NOR ANY OPTIMIZATION DONE\n",
    "\n",
    "#  test run\n",
    "mapNN = GetNeuralNetwork()\n",
    "TrainNN(mapNN, trainLoader, epochs=600)\n",
    "mean_map, std_map = PredNormal(mapNN, tenXTest)\n",
    "plt.figure(figsize=(10,5))\n",
    "plt.plot(X_test, y_test, 'g-', label='True')\n",
    "plt.show()\n",
    "plt.plot(X_test, mean_map, \"b-\", label='MAP NN Mean')\n",
    "plt.show()\n",
    "# Base + bayesian Last Layer model\n",
    "base = BaseNetwork().to(device)\n",
    "head = nn.Linear(16,1).to(device)\n",
    "baseMod = nn.Sequential(base,head)\n",
    "TrainNN(baseMod,trainLoader,200)\n",
    "# freezing base weights\n",
    "for p in baseMod.parameters():\n",
    "    p.requires_grad = False\n",
    "lastLayer = BayesianLastLayer(16).to(device)\n",
    "TrainLastLayer(base,lastLayer,trainLoader,epochs=200)\n",
    "meanB, stdB = PredLastLayer(base,lastLayer,tenXTest)\n",
    "\n",
    "plt.figure(figsize=(10,5))\n",
    "plt.plot(X_test,y_test, 'g-', label='True')\n",
    "plt.show()\n",
    "# epistemic uncertainty\n",
    "plt.plot(X_test, stdB, 'b--', label='MAP NN Mean')\n",
    "plt.show()\n",
    "\n",
    "mapUnID = std_map[InDist.squeeze()]\n",
    "mapUnOOD = std_map[~InDist.squeeze()]\n",
    "\n",
    "bllUnID = stdB[InDist.squeeze()]\n",
    "bllUnOOD = stdB[~InDist.squeeze()]\n",
    "\n",
    "print(f\"MAP NN: In-dist uncertainty = {mapUnID.mean():.4f}, OOD uncertainty = {mapUnOOD.mean():.4f}\")\n",
    "print(f\"Bayesian Last Layer: In-dist uncertainty = {bllUnID.mean():.4f}, OOD uncertainty = {bllUnOOD.mean():.4f}\")\n",
    "\n",
    "\n",
    "plt.figure(figsize=(10,5))\n",
    "plt.plot(X_test, y_test , 'g-', label='True')\n",
    "plt.plot(X_test, mean_map, 'b--', label='MAP NN Mean')\n",
    "plt.plot(X_test, meanB, 'r-', label='BayesLL Mean')\n",
    "plt.fill_between(X_test.flatten(), meanB-2*stdB, meanB+2*stdB, alpha=0.2, label='BayesLL ±2σ')\n",
    "plt.axvline(-4, color='k', ls='--')\n",
    "plt.axvline(4, color='k', ls='--')\n",
    "plt.legend()\n",
    "plt.title('Comparison of Predictive Uncertainty')\n",
    "plt.show()"
   ],
   "outputs": [
    {
     "name": "stdout",
     "output_type": "stream",
     "text": [
      "Epoch: 0 | Loss: 8.68657\n",
      "Epoch: 20 | Loss: 1.65924\n",
      "Epoch: 40 | Loss: 0.84868\n",
      "Epoch: 60 | Loss: 0.57570\n",
      "Epoch: 80 | Loss: 0.46540\n",
      "Epoch: 100 | Loss: 0.86249\n",
      "Epoch: 120 | Loss: 0.88099\n",
      "Epoch: 140 | Loss: 0.61384\n",
      "Epoch: 160 | Loss: 0.63888\n",
      "Epoch: 180 | Loss: 0.58280\n",
      "Epoch: 200 | Loss: 0.75072\n",
      "Epoch: 220 | Loss: 0.98936\n",
      "Epoch: 240 | Loss: 1.34526\n",
      "Epoch: 260 | Loss: 0.54774\n",
      "Epoch: 280 | Loss: 0.63886\n",
      "Epoch: 300 | Loss: 0.46955\n",
      "Epoch: 320 | Loss: 0.73462\n",
      "Epoch: 340 | Loss: 0.87080\n",
      "Epoch: 360 | Loss: 0.82694\n",
      "Epoch: 380 | Loss: 0.53729\n",
      "Epoch: 400 | Loss: 0.99095\n",
      "Epoch: 420 | Loss: 0.68438\n",
      "Epoch: 440 | Loss: 0.55999\n",
      "Epoch: 460 | Loss: 1.06514\n",
      "Epoch: 480 | Loss: 1.12190\n",
      "Epoch: 500 | Loss: 0.51879\n",
      "Unexpected exception formatting exception. Falling back to standard exception\n"
     ]
    },
    {
     "name": "stderr",
     "output_type": "stream",
     "text": [
      "Traceback (most recent call last):\n",
      "  File \"/Library/Frameworks/Python.framework/Versions/3.11/lib/python3.11/site-packages/IPython/core/interactiveshell.py\", line 3460, in run_code\n",
      "    exec(code_obj, self.user_global_ns, self.user_ns)\n",
      "  File \"/var/folders/z8/f4xxfstn37ndb5_8bsvv2v2w0000gn/T/ipykernel_6846/3038923950.py\", line 5, in <module>\n",
      "    TrainNN(mapNN, trainLoader, epochs=600)\n",
      "  File \"/Users/kingmopser/PycharmProjects/ProbabilisticML/src/baseNN.py\", line 42, in TrainNN\n",
      "    optimizer.step()\n",
      "  File \"/Library/Frameworks/Python.framework/Versions/3.11/lib/python3.11/site-packages/torch/optim/optimizer.py\", line 485, in wrapper\n",
      "    out = func(*args, **kwargs)\n",
      "          ^^^^^^^^^^^^^^^^^^^^^\n",
      "  File \"/Library/Frameworks/Python.framework/Versions/3.11/lib/python3.11/site-packages/torch/optim/optimizer.py\", line 79, in _use_grad\n",
      "    ret = func(self, *args, **kwargs)\n",
      "          ^^^^^^^^^^^^^^^^^^^^^^^^^^^\n",
      "  File \"/Library/Frameworks/Python.framework/Versions/3.11/lib/python3.11/site-packages/torch/optim/adam.py\", line 236, in step\n",
      "    has_complex = self._init_group(\n",
      "                  ^^^^^^^^^^^^^^^^^\n",
      "  File \"/Library/Frameworks/Python.framework/Versions/3.11/lib/python3.11/site-packages/torch/optim/adam.py\", line -1, in _init_group\n",
      "KeyboardInterrupt\n",
      "\n",
      "During handling of the above exception, another exception occurred:\n",
      "\n",
      "Traceback (most recent call last):\n",
      "  File \"/Library/Frameworks/Python.framework/Versions/3.11/lib/python3.11/site-packages/IPython/core/interactiveshell.py\", line 2057, in showtraceback\n",
      "    stb = self.InteractiveTB.structured_traceback(\n",
      "          ^^^^^^^^^^^^^^^^^^^^^^^^^^^^^^^^^^^^^^^^\n",
      "  File \"/Library/Frameworks/Python.framework/Versions/3.11/lib/python3.11/site-packages/IPython/core/ultratb.py\", line 1288, in structured_traceback\n",
      "    return FormattedTB.structured_traceback(\n",
      "           ^^^^^^^^^^^^^^^^^^^^^^^^^^^^^^^^^\n",
      "  File \"/Library/Frameworks/Python.framework/Versions/3.11/lib/python3.11/site-packages/IPython/core/ultratb.py\", line 1177, in structured_traceback\n",
      "    return VerboseTB.structured_traceback(\n",
      "           ^^^^^^^^^^^^^^^^^^^^^^^^^^^^^^^\n",
      "  File \"/Library/Frameworks/Python.framework/Versions/3.11/lib/python3.11/site-packages/IPython/core/ultratb.py\", line 1030, in structured_traceback\n",
      "    formatted_exception = self.format_exception_as_a_whole(etype, evalue, etb, number_of_lines_of_context,\n",
      "                          ^^^^^^^^^^^^^^^^^^^^^^^^^^^^^^^^^^^^^^^^^^^^^^^^^^^^^^^^^^^^^^^^^^^^^^^^^^^^^^^^\n",
      "  File \"/Library/Frameworks/Python.framework/Versions/3.11/lib/python3.11/site-packages/IPython/core/ultratb.py\", line 960, in format_exception_as_a_whole\n",
      "    frames.append(self.format_record(record))\n",
      "                  ^^^^^^^^^^^^^^^^^^^^^^^^^^\n",
      "  File \"/Library/Frameworks/Python.framework/Versions/3.11/lib/python3.11/site-packages/IPython/core/ultratb.py\", line 870, in format_record\n",
      "    frame_info.lines, Colors, self.has_colors, lvals\n",
      "    ^^^^^^^^^^^^^^^^\n",
      "  File \"/Library/Frameworks/Python.framework/Versions/3.11/lib/python3.11/site-packages/IPython/core/ultratb.py\", line 704, in lines\n",
      "    return self._sd.lines\n",
      "           ^^^^^^^^^^^^^^\n",
      "  File \"/Library/Frameworks/Python.framework/Versions/3.11/lib/python3.11/site-packages/stack_data/utils.py\", line 144, in cached_property_wrapper\n",
      "    value = obj.__dict__[self.func.__name__] = self.func(obj)\n",
      "                                               ^^^^^^^^^^^^^^\n",
      "  File \"/Library/Frameworks/Python.framework/Versions/3.11/lib/python3.11/site-packages/stack_data/core.py\", line 734, in lines\n",
      "    pieces = self.included_pieces\n",
      "             ^^^^^^^^^^^^^^^^^^^^\n",
      "  File \"/Library/Frameworks/Python.framework/Versions/3.11/lib/python3.11/site-packages/stack_data/utils.py\", line 144, in cached_property_wrapper\n",
      "    value = obj.__dict__[self.func.__name__] = self.func(obj)\n",
      "                                               ^^^^^^^^^^^^^^\n",
      "  File \"/Library/Frameworks/Python.framework/Versions/3.11/lib/python3.11/site-packages/stack_data/core.py\", line 681, in included_pieces\n",
      "    pos = scope_pieces.index(self.executing_piece)\n",
      "                             ^^^^^^^^^^^^^^^^^^^^\n",
      "  File \"/Library/Frameworks/Python.framework/Versions/3.11/lib/python3.11/site-packages/stack_data/utils.py\", line 144, in cached_property_wrapper\n",
      "    value = obj.__dict__[self.func.__name__] = self.func(obj)\n",
      "                                               ^^^^^^^^^^^^^^\n",
      "  File \"/Library/Frameworks/Python.framework/Versions/3.11/lib/python3.11/site-packages/stack_data/core.py\", line 660, in executing_piece\n",
      "    return only(\n",
      "           ^^^^^\n",
      "  File \"/Library/Frameworks/Python.framework/Versions/3.11/lib/python3.11/site-packages/executing/executing.py\", line 190, in only\n",
      "    raise NotOneValueFound('Expected one value, found 0')\n",
      "executing.executing.NotOneValueFound: Expected one value, found 0\n"
     ]
    }
   ],
   "execution_count": 7
  }
 ],
 "metadata": {
  "kernelspec": {
   "display_name": "Python 3 (ipykernel)",
   "language": "python",
   "name": "python3"
  },
  "language_info": {
   "codemirror_mode": {
    "name": "ipython",
    "version": 3
   },
   "file_extension": ".py",
   "mimetype": "text/x-python",
   "name": "python",
   "nbconvert_exporter": "python",
   "pygments_lexer": "ipython3",
   "version": "3.11.0"
  }
 },
 "nbformat": 4,
 "nbformat_minor": 5
}
