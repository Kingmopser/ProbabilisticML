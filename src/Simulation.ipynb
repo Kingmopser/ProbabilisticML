{
 "cells": [
  {
   "cell_type": "code",
   "execution_count": null,
   "id": "initial_id",
   "metadata": {
    "collapsed": true
   },
   "outputs": [],
   "source": []
  },
  {
   "cell_type": "code",
   "id": "85523ad5cc2039f7",
   "metadata": {
    "ExecuteTime": {
     "end_time": "2025-05-28T20:57:04.381390Z",
     "start_time": "2025-05-28T20:57:02.024798Z"
    }
   },
   "source": [
    "import numpy as np\n",
    "import matplotlib.pyplot as plt\n",
    "from torch.utils.data import DataLoader, TensorDataset\n",
    "import torch\n",
    "import torch.nn as nn\n",
    "import torch.optim as optim\n",
    "import torch.nn.functional as F\n",
    "from BayesianLLNN import BaseNetwork\n",
    "from BayesianLLNN import BayesianLastLayer,PredLastLayer,TrainLastLayer\n",
    "from baseNN import GetNeuralNetwork, PredNormal, TrainNN\n"
   ],
   "outputs": [],
   "execution_count": 1
  },
  {
   "cell_type": "markdown",
   "id": "e03f233333061533",
   "metadata": {},
   "source": []
  },
  {
   "cell_type": "code",
   "execution_count": 11,
   "id": "d93996c184c3b673",
   "metadata": {
    "ExecuteTime": {
     "end_time": "2025-05-28T20:34:32.311275Z",
     "start_time": "2025-05-28T20:34:32.223262Z"
    }
   },
   "outputs": [],
   "source": [
    "np.random.seed(123)\n",
    "device = torch.accelerator.current_accelerator().type if torch.accelerator.is_available() else \"cpu\"\n",
    "#simulate data\n",
    "X_train = np.random.uniform(-4,4,400).reshape(-1,1).astype(np.float32)\n",
    "#by adding the gaussian noise we are introducing aleatoric uncertainty\n",
    "y_train = (X_train**2 + 2*X_train + 0.9* np.random.randn(*X_train.shape)).astype(np.float32)\n",
    "\n",
    "X_test = np.linspace(-8, 8, 200).reshape(-1, 1).astype(np.float32)\n",
    "y_test = (X_test**2 + 2*X_test ).astype(np.float32)\n",
    "\n",
    "tenX = torch.from_numpy(X_train).to(device)\n",
    "tenY = torch.from_numpy(y_train).to(device)\n",
    "tenXTest = torch.from_numpy(X_test).to(device)\n",
    "tenYTest = torch.from_numpy(y_test).to(device)\n",
    "tenDF = TensorDataset(tenX,tenY)\n",
    "trainLoader = DataLoader(tenDF,batch_size=32,shuffle=True)\n",
    "InDist = (X_test >=-4) & (X_test <=4)"
   ]
  },
  {
   "cell_type": "code",
   "execution_count": null,
   "id": "fe95bfac",
   "metadata": {},
   "outputs": [],
   "source": [
    "#NO TUNING NOR ANY OPTIMIZATION DONE\n",
    "\n",
    "#  test run\n",
    "mapNN = GetNeuralNetwork()\n",
    "TrainNN(mapNN, trainLoader, epochs=600)\n",
    "mean_map, std_map = PredNormal(mapNN, tenXTest)\n",
    "plt.figure(figsize=(10,5))\n",
    "plt.plot(X_test, y_test, 'g-', label='True')\n",
    "plt.show()\n",
    "plt.plot(X_test, mean_map, \"b-\", label='MAP NN Mean')\n",
    "plt.show()\n",
    "# Base + bayesian Last Layer model\n",
    "base = BaseNetwork().to(device)\n",
    "head = nn.Linear(16,1).to(device)\n",
    "baseMod = nn.Sequential(base,head)\n",
    "TrainNN(baseMod,trainLoader,200)\n",
    "# freezing base weights\n",
    "for p in baseMod.parameters():\n",
    "    p.requires_grad = False\n",
    "lastLayer = BayesianLastLayer(16).to(device)\n",
    "TrainLastLayer(base,lastLayer,trainLoader,epochs=200)\n",
    "meanB, stdB = PredLastLayer(base,lastLayer,tenXTest)\n",
    "\n",
    "plt.figure(figsize=(10,5))\n",
    "plt.plot(X_test,y_test, 'g-', label='True')\n",
    "plt.show()\n",
    "# epistemic uncertainty\n",
    "plt.plot(X_test, stdB, 'b--', label='MAP NN Mean')\n",
    "plt.show()\n",
    "\n",
    "mapUnID = std_map[InDist.squeeze()]\n",
    "mapUnOOD = std_map[~InDist.squeeze()]\n",
    "\n",
    "bllUnID = stdB[InDist.squeeze()]\n",
    "bllUnOOD = stdB[~InDist.squeeze()]\n",
    "\n",
    "print(f\"MAP NN: In-dist uncertainty = {mapUnID.mean():.4f}, OOD uncertainty = {mapUnOOD.mean():.4f}\")\n",
    "print(f\"Bayesian Last Layer: In-dist uncertainty = {bllUnID.mean():.4f}, OOD uncertainty = {bllUnOOD.mean():.4f}\")\n",
    "\n",
    "\n",
    "plt.figure(figsize=(10,5))\n",
    "plt.plot(X_test, y_test , 'g-', label='True')\n",
    "plt.plot(X_test, mean_map, 'b--', label='MAP NN Mean')\n",
    "plt.plot(X_test, meanB, 'r-', label='BayesLL Mean')\n",
    "plt.fill_between(X_test.flatten(), meanB-2*stdB, meanB+2*stdB, alpha=0.2, label='BayesLL ±2σ')\n",
    "plt.axvline(-4, color='k', ls='--')\n",
    "plt.axvline(4, color='k', ls='--')\n",
    "plt.legend()\n",
    "plt.title('Comparison of Predictive Uncertainty')\n",
    "plt.show()"
   ]
  }
 ],
 "metadata": {
  "kernelspec": {
   "display_name": "Python 3 (ipykernel)",
   "language": "python",
   "name": "python3"
  },
  "language_info": {
   "codemirror_mode": {
    "name": "ipython",
    "version": 3
   },
   "file_extension": ".py",
   "mimetype": "text/x-python",
   "name": "python",
   "nbconvert_exporter": "python",
   "pygments_lexer": "ipython3",
   "version": "3.11.0"
  }
 },
 "nbformat": 4,
 "nbformat_minor": 5
}
