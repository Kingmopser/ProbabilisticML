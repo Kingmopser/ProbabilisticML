{
 "cells": [
  {
   "cell_type": "code",
   "id": "initial_id",
   "metadata": {
    "collapsed": true,
    "ExecuteTime": {
     "end_time": "2025-06-04T10:38:03.495831Z",
     "start_time": "2025-06-04T10:38:00.945531Z"
    }
   },
   "source": [
    "import re\n",
    "\n",
    "import numpy as np\n",
    "import matplotlib.pyplot as plt\n",
    "import pandas as pd\n",
    "from nltk import accuracy\n",
    "from sklearn import datasets\n",
    "from sklearn.preprocessing import StandardScaler, LabelEncoder\n",
    "from sklearn.model_selection import train_test_split\n",
    "from sklearn.metrics import accuracy_score\n",
    "from torch import dtype\n",
    "from torch.utils.data import DataLoader, TensorDataset\n",
    "import torch\n",
    "import torch.nn as nn\n",
    "import torch.optim as optim\n",
    "import torch.nn.functional as F\n",
    "from BayesianLLNN import BayesianLastLayer,PredLastLayer,TrainLastLayer,BaseNetwork,TrainLastLayerCL, PredLastLayerCl\n",
    "from baseNN import GetNeuralNetwork, PredNormal, TrainNN, GetNeuralNetworkClassification, TrainNNClass, PredictClass"
   ],
   "outputs": [],
   "execution_count": 1
  },
  {
   "cell_type": "markdown",
   "id": "5de039e02ed7b0be",
   "metadata": {},
   "source": [
    "Loading Dataset"
   ]
  },
  {
   "cell_type": "code",
   "id": "5e82debab9c61ae5",
   "metadata": {
    "ExecuteTime": {
     "end_time": "2025-06-04T10:38:03.953031Z",
     "start_time": "2025-06-04T10:38:03.950857Z"
    }
   },
   "source": [
    "np.random.seed(123)\n",
    "device = torch.accelerator.current_accelerator().type if torch.accelerator.is_available() else \"cpu\""
   ],
   "outputs": [],
   "execution_count": 2
  },
  {
   "cell_type": "code",
   "id": "bd6912c3f8e26306",
   "metadata": {
    "ExecuteTime": {
     "end_time": "2025-06-04T10:38:05.072622Z",
     "start_time": "2025-06-04T10:38:05.064444Z"
    }
   },
   "source": [
    "# load dataset, medical, diabetes, relevant. Diagnosis\n",
    "df = pd.read_csv(\"/Users/kingmopser/PycharmProjects/ProbabilisticML/Dataset of Diabetes .csv\")\n",
    "df.drop(columns=[\"ID\",\"No_Pation\"], inplace=True)\n",
    "len(df.columns) # 13"
   ],
   "outputs": [
    {
     "data": {
      "text/plain": [
       "12"
      ]
     },
     "execution_count": 3,
     "metadata": {},
     "output_type": "execute_result"
    }
   ],
   "execution_count": 3
  },
  {
   "cell_type": "markdown",
   "id": "1cd2defff2921396",
   "metadata": {},
   "source": [
    "Pre-Processing for Input Data"
   ]
  },
  {
   "cell_type": "code",
   "id": "3bbc04b9cb096f1",
   "metadata": {
    "ExecuteTime": {
     "end_time": "2025-06-04T10:38:06.275587Z",
     "start_time": "2025-06-04T10:38:06.266670Z"
    }
   },
   "source": [
    "scaler = StandardScaler()\n",
    "encoder =LabelEncoder()\n",
    "df[\"Gender\"] = df[\"Gender\"].apply(lambda x: 1 if x==\"M\" else 0)\n",
    "c = df.columns[1:len(df.columns)-1]\n",
    "df[c] =scaler.fit_transform(df[c])\n",
    "df[\"CLASS\"] = df[\"CLASS\"].apply(lambda x: \"N\" if re.match(r\"N\",x) else \"P\" if x==\"P\" else \"Y\" if re.match(r\"Y\",x) else 0)\n",
    "df[\"CLASS\"]= pd.Categorical(df[\"CLASS\"], categories=[\"N\",\"P\",\"Y\"], ordered=True)\n",
    "df[\"CLASS\"] = encoder.fit_transform(df[\"CLASS\"])"
   ],
   "outputs": [],
   "execution_count": 4
  },
  {
   "cell_type": "code",
   "id": "4f9a65404f7e0fb0",
   "metadata": {
    "ExecuteTime": {
     "end_time": "2025-06-04T10:38:08.283368Z",
     "start_time": "2025-06-04T10:38:08.272387Z"
    }
   },
   "source": [
    "X = df.iloc[:,:-1].to_numpy(dtype=np.float32)\n",
    "y= df['CLASS'].to_numpy()\n",
    "X_train,X_test,y_train,y_test = train_test_split(X,y, train_size=0.8)\n",
    "tenX = torch.tensor(X_train).to(device)\n",
    "tenY = torch.tensor(y_train).to(device)\n",
    "tenXTest = torch.tensor(X_test).to(device)\n",
    "tenYTest = torch.tensor(y_test).to(device)\n",
    "tenDF = TensorDataset(tenX,tenY)\n",
    "trainLoader = DataLoader(tenDF,batch_size=32,shuffle=True)"
   ],
   "outputs": [],
   "execution_count": 5
  },
  {
   "cell_type": "markdown",
   "id": "53c5f2c57aa3dab",
   "metadata": {},
   "source": "Creating OOD samples\n"
  },
  {
   "metadata": {
    "ExecuteTime": {
     "end_time": "2025-06-04T10:18:50.277783Z",
     "start_time": "2025-06-04T10:18:50.270776Z"
    }
   },
   "cell_type": "code",
   "source": [
    "# Feature-Namen ohne Gender\n",
    "feature_names = df.columns[1:len(df.columns)-1]\n",
    "# Wähle beliebige Werte außerhalb des Trainingsbereichs, z. B. +5 und -5 Standardabweichungen\n",
    "n_ood = 50  # wie viele OOD-Beispiele pro Feature\n",
    "\n",
    "ood_samples = []\n",
    "for i, feature in enumerate(feature_names):\n",
    "    # Template: Mittelwert aller Features (z. B. aus X_train)\n",
    "    base = np.mean(X_train, axis=0)\n",
    "    # Für dieses Feature Wert weit außerhalb setzen (+5)\n",
    "    ood_high = base.copy()\n",
    "    ood_high[i] = 4  # oder beliebig >3\n",
    "\n",
    "    ood_low = base.copy()\n",
    "    ood_low[i] = -4  # oder beliebig <-3\n",
    "\n",
    "    ood_samples.append(ood_high)\n",
    "    ood_samples.append(ood_low)\n",
    "\n",
    "# Zu Array zusammenfügen\n",
    "X_ood = np.stack(ood_samples)\n",
    "X_ood = np.column_stack((np.zeros(len(X_ood)),X_ood[:,:-1]))\n",
    "y_ood = np.zeros(len(X_ood))\n",
    "# Dummy, wenn Label nötig, ansonsten ignorieren\n",
    "X_test_ODD= np.vstack([X_test,X_ood])\n",
    "y_test_OOD=np.concatenate([y_test, y_ood])\n",
    "# Zu Tensor (optional)\n",
    "tenX_OOD = torch.tensor(X_test_ODD, dtype=torch.float32).to(device)\n",
    "tenY_OOD = torch.tensor(y_test_OOD, dtype=torch.float32).to(device)\n",
    "#MASK\n",
    "is_ood = np.array([False]*len(X_test) + [True]*len(X_ood))\n",
    "X_test_ODD"
   ],
   "id": "3e1c6c0a724fff26",
   "outputs": [
    {
     "data": {
      "text/plain": [
       "array([[ 0.00000000e+00, -2.67520499e+00,  1.96086004e-01, ...,\n",
       "         6.19275630e-01, -3.15339565e-01, -1.52785552e+00],\n",
       "       [ 1.00000000e+00, -1.31076849e+00, -1.78867459e-01, ...,\n",
       "         1.06788957e+00, -2.60721117e-01, -1.52785552e+00],\n",
       "       [ 1.00000000e+00, -1.08336246e+00, -6.90167606e-01, ...,\n",
       "         1.70661718e-01, -2.88030326e-01, -1.12462211e+00],\n",
       "       ...,\n",
       "       [ 0.00000000e+00,  5.63750029e-01, -3.75220715e-03, ...,\n",
       "         1.13619317e-03, -4.00000000e+00,  1.85497459e-02],\n",
       "       [ 0.00000000e+00,  5.63750029e-01, -3.75220715e-03, ...,\n",
       "         1.13619317e-03,  7.37972325e-04,  4.00000000e+00],\n",
       "       [ 0.00000000e+00,  5.63750029e-01, -3.75220715e-03, ...,\n",
       "         1.13619317e-03,  7.37972325e-04, -4.00000000e+00]])"
      ]
     },
     "execution_count": 6,
     "metadata": {},
     "output_type": "execute_result"
    }
   ],
   "execution_count": 6
  },
  {
   "metadata": {
    "ExecuteTime": {
     "end_time": "2025-06-04T10:38:12.807153Z",
     "start_time": "2025-06-04T10:38:12.800920Z"
    }
   },
   "cell_type": "code",
   "source": [
    "base = np.mean(X_train, axis=0)  # shape: (n_feats+1,), falls die erste Spalte evtl. Label/Index war\n",
    "n_ood = 30\n",
    "ood_samples = []\n",
    "for _ in range(n_ood):\n",
    "    # Erzeuge Vektor, bei dem alle Features +4 bekommen\n",
    "    ood_high_all = base.copy()\n",
    "    # Index 0 überspringen wir später ohnehin (ist evtl. das Label oder konstante Spalte)\n",
    "    ood_high_all[1:-1] = np.random.choice([np.random.uniform(4,5),np.random.uniform(-4,-8) ], size=9)  # alle Feature-Spalten auf +4 setzen\n",
    "\n",
    "    # Erzeuge Vektor, bei dem alle Features -4 bekommen\n",
    "  #  ood_low_all = base.copy()\n",
    " #   ood_low_all[1:-1] = -4  # alle Feature-Spalten auf -4 setzen\n",
    "\n",
    "    ood_samples.append(ood_high_all)\n",
    "#    ood_samples.append(ood_low_all)\n",
    "\n",
    "# Aus Liste ein Array machen\n",
    "X_ood = np.stack(ood_samples)  # shape: (2*n_ood, n_feats+1)\n",
    "\n",
    "# Wenn du in deinem Setting die erste Spalte hart auf 0 setzen willst\n",
    "# (wie in deinem Original: np.zeros + Spalten verschieben), dann:\n",
    "X_ood = np.column_stack((np.zeros(len(X_ood)), X_ood[:, 1:]))  # erste Spalte 0, Rest Features\n",
    "\n",
    "# Dummy-Labels (falls nötig)\n",
    "y_ood = np.zeros(len(X_ood))\n",
    "\n",
    "# Zusammensetzen mit echtem Test-Set\n",
    "X_test_OOD = np.vstack([X_test, X_ood])\n",
    "y_test_OOD = np.concatenate([y_test, y_ood])\n",
    "\n",
    "tenX_OOD = torch.tensor(X_test_OOD, dtype=torch.float32).to(device)\n",
    "tenY_OOD = torch.tensor(y_test_OOD, dtype=torch.float32).to(device)\n",
    "\n",
    "\n",
    "is_ood = np.array([False] * len(X_test) + [True] * len(X_ood))\n"
   ],
   "id": "e9d486d08fbf5450",
   "outputs": [],
   "execution_count": 7
  },
  {
   "metadata": {},
   "cell_type": "markdown",
   "source": "MAP Model fitting",
   "id": "5cc6fa69aaf4a9f7"
  },
  {
   "cell_type": "code",
   "id": "d6bd2ac1a83677c6",
   "metadata": {
    "ExecuteTime": {
     "end_time": "2025-06-04T10:38:21.698878Z",
     "start_time": "2025-06-04T10:38:14.665980Z"
    }
   },
   "source": [
    "# BASE NN CLASSIFIER\n",
    "nn = GetNeuralNetworkClassification(len(df.columns[:-1]),len(np.unique(y)))\n",
    "TrainNNClass(nn,trainLoader,epochs=100)\n",
    "prob,mapentr = PredictClass(nn,tenX_OOD)"
   ],
   "outputs": [
    {
     "name": "stdout",
     "output_type": "stream",
     "text": [
      "Epoch: 0 | Loss: 0.79023\n",
      "Epoch: 10 | Loss: 0.22988\n",
      "Epoch: 20 | Loss: 0.14498\n",
      "Epoch: 30 | Loss: 0.23204\n",
      "Epoch: 40 | Loss: 0.17961\n",
      "Epoch: 50 | Loss: 0.14452\n",
      "Epoch: 60 | Loss: 0.07551\n",
      "Epoch: 70 | Loss: 0.13134\n",
      "Epoch: 80 | Loss: 0.38792\n",
      "Epoch: 90 | Loss: 0.20622\n"
     ]
    }
   ],
   "execution_count": 8
  },
  {
   "metadata": {},
   "cell_type": "markdown",
   "source": "Bayesian LL Classifier fitting\n",
   "id": "9f326d6ff234282"
  },
  {
   "cell_type": "code",
   "id": "35f7cd69e4d35ce6",
   "metadata": {
    "ExecuteTime": {
     "end_time": "2025-06-04T10:38:38.422475Z",
     "start_time": "2025-06-04T10:38:27.983092Z"
    }
   },
   "source": [
    "# bayesian\n",
    "base = BaseNetwork(len(df.columns[:-1])).to(device)\n",
    "head = torch.nn.Linear(in_features=4,out_features=len(df[\"CLASS\"].unique())).to(device)\n",
    "baseMod = torch.nn.Sequential(base,head)\n",
    "TrainNNClass(baseMod,trainLoader,60)\n",
    "# freezing base weights\n",
    "for p in baseMod.parameters():\n",
    "    p.requires_grad = False\n",
    "lastLayer = BayesianLastLayer(in_features=4,out_features=len(df[\"CLASS\"].unique())).to(device)\n",
    "TrainLastLayerCL(base,lastLayer,trainLoader,epochs=60)\n",
    "mean_prob, entropy,exp_entr ,mi = PredLastLayerCl(base,lastLayer,tenX_OOD)"
   ],
   "outputs": [
    {
     "name": "stdout",
     "output_type": "stream",
     "text": [
      "Epoch: 0 | Loss: 0.85250\n",
      "Epoch: 10 | Loss: 0.56508\n",
      "Epoch: 20 | Loss: 0.40694\n",
      "Epoch: 30 | Loss: 0.19177\n",
      "Epoch: 40 | Loss: 0.15428\n",
      "Epoch: 50 | Loss: 0.14091\n"
     ]
    }
   ],
   "execution_count": 9
  },
  {
   "cell_type": "code",
   "id": "94056947a7fcb8b5",
   "metadata": {
    "ExecuteTime": {
     "end_time": "2025-06-04T10:38:40.573751Z",
     "start_time": "2025-06-04T10:38:40.571066Z"
    }
   },
   "source": [
    "#MAP\n",
    "#ID\n",
    "prob_ID = prob[~is_ood]\n",
    "mapentr_ID = mapentr[~is_ood]\n",
    "#OOD\n",
    "prob_OOD =prob[is_ood]\n",
    "mapentr_OOD = mapentr[is_ood]\n",
    "\n",
    "\n",
    "\n",
    "#BAYES\n",
    "#ID\n",
    "mean_prob_ID= mean_prob[~is_ood]\n",
    "pred_ent_ID = entropy[~is_ood]\n",
    "aleatoric_ID = exp_entr[~is_ood]\n",
    "epistemic_ID = mi[~is_ood]\n",
    "#OOD\n",
    "mean_prob_OOD= mean_prob[is_ood]\n",
    "pred_ent_OOD = entropy[is_ood]\n",
    "aleatoric_OOD = exp_entr[is_ood]\n",
    "epistemic_OOD = mi[is_ood]"
   ],
   "outputs": [],
   "execution_count": 10
  },
  {
   "metadata": {},
   "cell_type": "markdown",
   "source": "PLOTS",
   "id": "d13d063d97cae31"
  },
  {
   "metadata": {
    "ExecuteTime": {
     "end_time": "2025-06-04T10:38:46.223532Z",
     "start_time": "2025-06-04T10:38:45.958261Z"
    }
   },
   "cell_type": "code",
   "source": [
    "plt.figure(figsize=(12,5))\n",
    "#MAP ENTROPY\n",
    "plt.subplot(1,2,1)\n",
    "plt.hist(mapentr_ID, bins=30, alpha=0.7, label='ID')\n",
    "plt.hist(mapentr_OOD, bins=30, alpha=0.7, label='OOD')\n",
    "plt.title('MAP NN: Entropie')\n",
    "plt.xlabel('Entropie')\n",
    "plt.ylabel('Häufigkeit')\n",
    "plt.legend()\n",
    " #BLL ENTROPY\n",
    "plt.subplot(1,2,2)\n",
    "plt.hist(pred_ent_ID, bins=30, alpha=0.7, label='ID')\n",
    "plt.hist(pred_ent_OOD, bins=30, alpha=0.7, label='OOD')\n",
    "plt.title('Bayesian Last Layer: Entropie')\n",
    "plt.xlabel('Entropie')\n",
    "plt.ylabel('Häufigkeit')\n",
    "plt.legend()\n",
    "\n",
    "plt.tight_layout()\n",
    "plt.show()"
   ],
   "id": "9ca4469e37588abe",
   "outputs": [
    {
     "data": {
      "text/plain": [
       "<Figure size 1200x500 with 2 Axes>"
      ],
      "image/png": "[encoded data removed]"
     },
     "metadata": {},
     "output_type": "display_data"
    }
   ],
   "execution_count": 11
  },
  {
   "metadata": {
    "ExecuteTime": {
     "end_time": "2025-06-04T10:13:54.098280Z",
     "start_time": "2025-06-04T10:13:54.096655Z"
    }
   },
   "cell_type": "code",
   "source": "",
   "id": "946749b0f46e70d7",
   "outputs": [],
   "execution_count": null
  }
 ],
 "metadata": {
  "kernelspec": {
   "display_name": "Python 3 (ipykernel)",
   "language": "python",
   "name": "python3"
  },
  "language_info": {
   "codemirror_mode": {
    "name": "ipython",
    "version": 3
   },
   "file_extension": ".py",
   "mimetype": "text/x-python",
   "name": "python",
   "nbconvert_exporter": "python",
   "pygments_lexer": "ipython3",
   "version": "3.11.0"
  }
 },
 "nbformat": 4,
 "nbformat_minor": 5
}
