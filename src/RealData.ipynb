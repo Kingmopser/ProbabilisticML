{
 "cells": [
  {
   "cell_type": "code",
   "id": "initial_id",
   "metadata": {
    "collapsed": true,
    "ExecuteTime": {
     "end_time": "2025-05-31T21:19:29.799775Z",
     "start_time": "2025-05-31T21:19:29.795959Z"
    }
   },
   "source": [
    "import re\n",
    "\n",
    "import numpy as np\n",
    "import matplotlib.pyplot as plt\n",
    "import pandas as pd\n",
    "from nltk import accuracy\n",
    "from sklearn import datasets\n",
    "from sklearn.preprocessing import StandardScaler, LabelEncoder\n",
    "from sklearn.model_selection import train_test_split\n",
    "from sklearn.metrics import accuracy_score\n",
    "from torch import dtype\n",
    "from torch.utils.data import DataLoader, TensorDataset\n",
    "import torch\n",
    "import torch.nn as nn\n",
    "import torch.optim as optim\n",
    "import torch.nn.functional as F\n",
    "from BayesianLLNN import BayesianLastLayer,PredLastLayer,TrainLastLayer,BaseNetwork,TrainLastLayerCL, PredLastLayerCl\n",
    "from baseNN import GetNeuralNetwork, PredNormal, TrainNN, GetNeuralNetworkClassification, TrainNNClass, PredictClass"
   ],
   "outputs": [],
   "execution_count": 10
  },
  {
   "cell_type": "markdown",
   "id": "5de039e02ed7b0be",
   "metadata": {},
   "source": [
    "Loading Dataset"
   ]
  },
  {
   "cell_type": "code",
   "id": "5e82debab9c61ae5",
   "metadata": {
    "ExecuteTime": {
     "end_time": "2025-05-31T21:19:29.830906Z",
     "start_time": "2025-05-31T21:19:29.828895Z"
    }
   },
   "source": [
    "np.random.seed(123)\n",
    "device = torch.accelerator.current_accelerator().type if torch.accelerator.is_available() else \"cpu\""
   ],
   "outputs": [],
   "execution_count": 11
  },
  {
   "cell_type": "code",
   "id": "bd6912c3f8e26306",
   "metadata": {
    "ExecuteTime": {
     "end_time": "2025-05-31T21:19:30.330982Z",
     "start_time": "2025-05-31T21:19:30.325332Z"
    }
   },
   "source": [
    "# load dataset, medical, diabetes, relevant. Diagnosis\n",
    "df = pd.read_csv(\"/Users/kingmopser/PycharmProjects/ProbabilisticML/Dataset of Diabetes .csv\")\n",
    "df.drop(columns=[\"ID\",\"No_Pation\"], inplace=True)\n",
    "len(df.columns) # 13"
   ],
   "outputs": [
    {
     "data": {
      "text/plain": [
       "12"
      ]
     },
     "execution_count": 12,
     "metadata": {},
     "output_type": "execute_result"
    }
   ],
   "execution_count": 12
  },
  {
   "cell_type": "markdown",
   "id": "1cd2defff2921396",
   "metadata": {},
   "source": [
    "Pre-Processing for Input Data"
   ]
  },
  {
   "cell_type": "code",
   "id": "3bbc04b9cb096f1",
   "metadata": {
    "ExecuteTime": {
     "end_time": "2025-05-31T21:19:30.362653Z",
     "start_time": "2025-05-31T21:19:30.356103Z"
    }
   },
   "source": [
    "scaler = StandardScaler()\n",
    "encoder =LabelEncoder()\n",
    "df[\"Gender\"] = df[\"Gender\"].apply(lambda x: 1 if x==\"M\" else 0)\n",
    "c = df.columns[1:len(df.columns)-1]\n",
    "df[c] =scaler.fit_transform(df[c])\n",
    "df[\"CLASS\"] = df[\"CLASS\"].apply(lambda x: \"N\" if re.match(r\"N\",x) else \"P\" if x==\"P\" else \"Y\" if re.match(r\"Y\",x) else 0)\n",
    "df[\"CLASS\"]= pd.Categorical(df[\"CLASS\"], categories=[\"N\",\"P\",\"Y\"], ordered=True)\n",
    "df[\"CLASS\"] = encoder.fit_transform(df[\"CLASS\"])"
   ],
   "outputs": [],
   "execution_count": 13
  },
  {
   "cell_type": "code",
   "id": "4f9a65404f7e0fb0",
   "metadata": {
    "ExecuteTime": {
     "end_time": "2025-05-31T21:19:30.615313Z",
     "start_time": "2025-05-31T21:19:30.610762Z"
    }
   },
   "source": [
    "X = df.iloc[:,:-1].to_numpy(dtype=np.float32)\n",
    "y= df['CLASS'].to_numpy()\n",
    "X_train,X_test,y_train,y_test = train_test_split(X,y, train_size=0.8)\n",
    "tenX = torch.tensor(X_train).to(device)\n",
    "tenY = torch.tensor(y_train).to(device)\n",
    "tenXTest = torch.tensor(X_test).to(device)\n",
    "tenYTest = torch.tensor(y_test).to(device)\n",
    "tenDF = TensorDataset(tenX,tenY)\n",
    "trainLoader = DataLoader(tenDF,batch_size=32,shuffle=True)"
   ],
   "outputs": [],
   "execution_count": 14
  },
  {
   "metadata": {},
   "cell_type": "markdown",
   "source": "",
   "id": "135b4e39d5fce17c"
  },
  {
   "cell_type": "markdown",
   "id": "53c5f2c57aa3dab",
   "metadata": {},
   "source": [
    "Fitting Models"
   ]
  },
  {
   "metadata": {
    "ExecuteTime": {
     "end_time": "2025-05-31T21:26:32.567808Z",
     "start_time": "2025-05-31T21:26:32.560994Z"
    }
   },
   "cell_type": "code",
   "source": [
    "# Feature-Namen ohne Gender\n",
    "feature_names = df.columns[1:len(df.columns)-1]\n",
    "# Wähle beliebige Werte außerhalb des Trainingsbereichs, z. B. +5 und -5 Standardabweichungen\n",
    "n_ood = 50  # wie viele OOD-Beispiele pro Feature\n",
    "\n",
    "ood_samples = []\n",
    "for i, feature in enumerate(feature_names):\n",
    "    # Template: Mittelwert aller Features (z. B. aus X_train)\n",
    "    base = np.mean(X_train, axis=0)\n",
    "    # Für dieses Feature Wert weit außerhalb setzen (+5)\n",
    "    ood_high = base.copy()\n",
    "    ood_high[i] = 5  # oder beliebig >3\n",
    "\n",
    "    ood_low = base.copy()\n",
    "    ood_low[i] = -5  # oder beliebig <-3\n",
    "\n",
    "    ood_samples.append(ood_high)\n",
    "    ood_samples.append(ood_low)\n",
    "\n",
    "# Zu Array zusammenfügen\n",
    "X_ood = np.stack(ood_samples)\n",
    "X_ood = np.column_stack((np.zeros(len(X_ood)),X_ood[:,:-1]))\n",
    "y_ood = np.zeros(len(X_ood))\n",
    "# Dummy, wenn Label nötig, ansonsten ignorieren\n",
    "X_test_ODD= np.vstack([X_test,X_ood])\n",
    "y_test_OOD=np.concatenate([y_test, y_ood])\n",
    "# Zu Tensor (optional)\n",
    "tenX_OOD = torch.tensor(X_test_ODD, dtype=torch.float32).to(device)\n",
    "tenY_OOD = torch.tensor(y_test_OOD, dtype=torch.float32).to(device)\n",
    "is_ood = np.array([False]*len(X_test) + [True]*len(X_ood))"
   ],
   "id": "3e1c6c0a724fff26",
   "outputs": [],
   "execution_count": 29
  },
  {
   "cell_type": "code",
   "id": "d6bd2ac1a83677c6",
   "metadata": {
    "ExecuteTime": {
     "end_time": "2025-05-31T21:33:43.120858Z",
     "start_time": "2025-05-31T21:33:40.687230Z"
    }
   },
   "source": [
    "# BASE NN CLASSIFIER\n",
    "nn = GetNeuralNetworkClassification(len(df.columns[:-1]),len(np.unique(y)))\n",
    "TrainNNClass(nn,trainLoader,epochs=30)\n",
    "cl = PredictClass(nn,tenX_OOD)"
   ],
   "outputs": [
    {
     "name": "stdout",
     "output_type": "stream",
     "text": [
      "Epoch: 0 | Loss: 0.84389\n",
      "Epoch: 10 | Loss: 0.20232\n",
      "Epoch: 20 | Loss: 0.26734\n"
     ]
    }
   ],
   "execution_count": 37
  },
  {
   "cell_type": "code",
   "id": "35f7cd69e4d35ce6",
   "metadata": {
    "ExecuteTime": {
     "end_time": "2025-05-31T21:33:51.204779Z",
     "start_time": "2025-05-31T21:33:44.540489Z"
    }
   },
   "source": [
    "base = BaseNetwork(len(df.columns[:-1])).to(device)\n",
    "head = torch.nn.Linear(in_features=8,out_features=len(df[\"CLASS\"].unique())).to(device)\n",
    "baseMod = torch.nn.Sequential(base,head)\n",
    "TrainNNClass(baseMod,trainLoader,30)\n",
    "# freezing base weights\n",
    "for p in baseMod.parameters():\n",
    "    p.requires_grad = False\n",
    "lastLayer = BayesianLastLayer(in_features=8,out_features=len(df[\"CLASS\"].unique())).to(device)\n",
    "TrainLastLayerCL(base,lastLayer,trainLoader,epochs=30)\n",
    "mean_prob, entropy = PredLastLayerCl(base,lastLayer,tenX_OOD)"
   ],
   "outputs": [
    {
     "name": "stdout",
     "output_type": "stream",
     "text": [
      "Epoch: 0 | Loss: 0.92369\n",
      "Epoch: 10 | Loss: 0.30172\n",
      "Epoch: 20 | Loss: 0.24839\n"
     ]
    }
   ],
   "execution_count": 38
  },
  {
   "cell_type": "code",
   "id": "94056947a7fcb8b5",
   "metadata": {
    "ExecuteTime": {
     "end_time": "2025-05-31T21:33:52.280450Z",
     "start_time": "2025-05-31T21:33:52.277584Z"
    }
   },
   "source": [
    "mean_prob_OOD= mean_prob[is_ood]\n",
    "mean_prob_ID= mean_prob[~is_ood]\n",
    "entropy_OOD = entropy[is_ood]\n",
    "entropy_ID = entropy[~is_ood]"
   ],
   "outputs": [],
   "execution_count": 39
  },
  {
   "metadata": {
    "ExecuteTime": {
     "end_time": "2025-05-31T21:19:34.952278Z",
     "start_time": "2025-05-31T21:19:34.950847Z"
    }
   },
   "cell_type": "code",
   "source": "",
   "id": "9ca4469e37588abe",
   "outputs": [],
   "execution_count": null
  }
 ],
 "metadata": {
  "kernelspec": {
   "display_name": "Python 3 (ipykernel)",
   "language": "python",
   "name": "python3"
  },
  "language_info": {
   "codemirror_mode": {
    "name": "ipython",
    "version": 3
   },
   "file_extension": ".py",
   "mimetype": "text/x-python",
   "name": "python",
   "nbconvert_exporter": "python",
   "pygments_lexer": "ipython3",
   "version": "3.11.0"
  }
 },
 "nbformat": 4,
 "nbformat_minor": 5
}
