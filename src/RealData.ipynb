{
 "cells": [
  {
   "cell_type": "code",
   "id": "initial_id",
   "metadata": {
    "collapsed": true,
    "ExecuteTime": {
     "end_time": "2025-05-31T14:03:14.243577Z",
     "start_time": "2025-05-31T14:03:14.239931Z"
    }
   },
   "source": [
    "import re\n",
    "\n",
    "import numpy as np\n",
    "import matplotlib.pyplot as plt\n",
    "import pandas as pd\n",
    "from nltk import accuracy\n",
    "from sklearn import datasets\n",
    "from sklearn.preprocessing import StandardScaler, LabelEncoder\n",
    "from sklearn.model_selection import train_test_split\n",
    "from sklearn.metrics import accuracy_score\n",
    "from torch import dtype\n",
    "from torch.utils.data import DataLoader, TensorDataset\n",
    "import torch\n",
    "import torch.nn as nn\n",
    "import torch.optim as optim\n",
    "import torch.nn.functional as F\n",
    "from BayesianLLNN import BayesianLastLayer,PredLastLayer,TrainLastLayer\n",
    "from baseNN import GetNeuralNetwork, PredNormal, TrainNN, GetNeuralNetworkClassification, TrainNNClass, PredictClass"
   ],
   "outputs": [],
   "execution_count": 11
  },
  {
   "cell_type": "markdown",
   "id": "5de039e02ed7b0be",
   "metadata": {},
   "source": [
    "Loading Dataset"
   ]
  },
  {
   "cell_type": "code",
   "id": "5e82debab9c61ae5",
   "metadata": {
    "ExecuteTime": {
     "end_time": "2025-05-31T14:03:14.270059Z",
     "start_time": "2025-05-31T14:03:14.268035Z"
    }
   },
   "source": [
    "np.random.seed(123)\n",
    "device = torch.accelerator.current_accelerator().type if torch.accelerator.is_available() else \"cpu\""
   ],
   "outputs": [],
   "execution_count": 12
  },
  {
   "cell_type": "code",
   "id": "bd6912c3f8e26306",
   "metadata": {
    "ExecuteTime": {
     "end_time": "2025-05-31T14:03:14.728194Z",
     "start_time": "2025-05-31T14:03:14.722355Z"
    }
   },
   "source": [
    "# load dataset, medical, diabetes, relevant. Diagnosis\n",
    "df = pd.read_csv(\"/Users/kingmopser/PycharmProjects/ProbabilisticML/Dataset of Diabetes .csv\")\n",
    "df.drop(columns=[\"ID\",\"No_Pation\"], inplace=True)\n",
    "len(df.columns) # 13"
   ],
   "outputs": [
    {
     "data": {
      "text/plain": [
       "12"
      ]
     },
     "execution_count": 13,
     "metadata": {},
     "output_type": "execute_result"
    }
   ],
   "execution_count": 13
  },
  {
   "cell_type": "markdown",
   "id": "1cd2defff2921396",
   "metadata": {},
   "source": [
    "Pre-Processing for Input Data"
   ]
  },
  {
   "cell_type": "code",
   "id": "3bbc04b9cb096f1",
   "metadata": {
    "ExecuteTime": {
     "end_time": "2025-05-31T14:03:14.737377Z",
     "start_time": "2025-05-31T14:03:14.730785Z"
    }
   },
   "source": [
    "scaler = StandardScaler()\n",
    "encoder =LabelEncoder()\n",
    "df[\"Gender\"] = df[\"Gender\"].apply(lambda x: 1 if x==\"M\" else 0)\n",
    "c = df.columns[1:len(df.columns)-1]\n",
    "df[c] =scaler.fit_transform(df[c])\n",
    "df[\"CLASS\"] = df[\"CLASS\"].apply(lambda x: \"N\" if re.match(r\"N\",x) else \"P\" if x==\"P\" else \"Y\" if re.match(r\"Y\",x) else 0)\n",
    "df[\"CLASS\"]= pd.Categorical(df[\"CLASS\"], categories=[\"N\",\"P\",\"Y\"], ordered=True)\n",
    "df[\"CLASS\"] = encoder.fit_transform(df[\"CLASS\"])"
   ],
   "outputs": [],
   "execution_count": 14
  },
  {
   "cell_type": "code",
   "id": "4f9a65404f7e0fb0",
   "metadata": {
    "ExecuteTime": {
     "end_time": "2025-05-31T14:03:14.978084Z",
     "start_time": "2025-05-31T14:03:14.972452Z"
    }
   },
   "source": [
    "X = df.iloc[:,:-1].to_numpy(dtype=np.float32)\n",
    "y= df['CLASS'].to_numpy()\n",
    "X_train,X_test,y_train,y_test = train_test_split(X,y, train_size=0.8)\n",
    "tenX = torch.tensor(X_train).to(device)\n",
    "tenY = torch.tensor(y_train).to(device)\n",
    "tenXTest = torch.tensor(X_test).to(device)\n",
    "tenYTest = torch.tensor(y_test).to(device)\n",
    "tenDF = TensorDataset(tenX,tenY)\n",
    "trainLoader = DataLoader(tenDF,batch_size=32,shuffle=True)\n",
    "#IND and OOD\n",
    "\n"
   ],
   "outputs": [],
   "execution_count": 15
  },
  {
   "cell_type": "markdown",
   "id": "53c5f2c57aa3dab",
   "metadata": {},
   "source": [
    "Fitting Models"
   ]
  },
  {
   "cell_type": "code",
   "id": "d6bd2ac1a83677c6",
   "metadata": {
    "ExecuteTime": {
     "end_time": "2025-05-31T14:03:26.137708Z",
     "start_time": "2025-05-31T14:03:15.244620Z"
    }
   },
   "source": [
    "# BASE NN CLASSIFIER\n",
    "nn = GetNeuralNetworkClassification(len(df.columns[:-1]),len(np.unique(y)))\n",
    "TrainNNClass(nn,trainLoader,epochs=100)\n",
    "cl = PredictClass(nn,tenXTest)"
   ],
   "outputs": [
    {
     "name": "stdout",
     "output_type": "stream",
     "text": [
      "Epoch: 0 | Loss: 0.83571\n",
      "Epoch: 10 | Loss: 0.24323\n",
      "Epoch: 20 | Loss: 0.04310\n",
      "Epoch: 30 | Loss: 0.14292\n",
      "Epoch: 40 | Loss: 0.05820\n",
      "Epoch: 50 | Loss: 0.04691\n",
      "Epoch: 60 | Loss: 0.04011\n",
      "Epoch: 70 | Loss: 0.02746\n",
      "Epoch: 80 | Loss: 0.00518\n",
      "Epoch: 90 | Loss: 0.00769\n"
     ]
    }
   ],
   "execution_count": 16
  },
  {
   "cell_type": "code",
   "id": "35f7cd69e4d35ce6",
   "metadata": {
    "ExecuteTime": {
     "end_time": "2025-05-31T14:07:43.828369Z",
     "start_time": "2025-05-31T14:07:24.427016Z"
    }
   },
   "source": [
    "#Metrics\n",
    "\n",
    "\n",
    "\n"
   ],
   "outputs": [
    {
     "name": "stdout",
     "output_type": "stream",
     "text": [
      "Epoch: 0 | Loss: 0.81997\n",
      "Epoch: 10 | Loss: 0.06064\n",
      "Epoch: 20 | Loss: 0.11965\n",
      "Epoch: 30 | Loss: 0.02723\n",
      "Epoch: 40 | Loss: 0.10717\n"
     ]
    }
   ],
   "execution_count": 21
  },
  {
   "cell_type": "code",
   "id": "94056947a7fcb8b5",
   "metadata": {
    "ExecuteTime": {
     "end_time": "2025-05-31T14:03:26.387946Z",
     "start_time": "2025-05-31T13:18:52.324799Z"
    }
   },
   "source": [
    "\n",
    "\n"
   ],
   "outputs": [],
   "execution_count": 10
  }
 ],
 "metadata": {
  "kernelspec": {
   "display_name": "Python 3 (ipykernel)",
   "language": "python",
   "name": "python3"
  },
  "language_info": {
   "codemirror_mode": {
    "name": "ipython",
    "version": 3
   },
   "file_extension": ".py",
   "mimetype": "text/x-python",
   "name": "python",
   "nbconvert_exporter": "python",
   "pygments_lexer": "ipython3",
   "version": "3.11.0"
  }
 },
 "nbformat": 4,
 "nbformat_minor": 5
}
